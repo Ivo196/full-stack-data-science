{
 "cells": [
  {
   "cell_type": "markdown",
   "metadata": {},
   "source": [
    "# Pull All Videos ID's From YouTube "
   ]
  },
  {
   "cell_type": "markdown",
   "metadata": {},
   "source": [
    "#### Imports "
   ]
  },
  {
   "cell_type": "code",
   "execution_count": null,
   "metadata": {},
   "outputs": [],
   "source": [
    "import requests\n",
    "import json\n",
    "import polars as pl\n",
    "import os \n",
    " \n",
    "from dotenv import load_dotenv\n"
   ]
  },
  {
   "cell_type": "code",
   "execution_count": 21,
   "metadata": {},
   "outputs": [],
   "source": [
    "load_dotenv()\n",
    "my_key = os.getenv('my_key')\n"
   ]
  },
  {
   "cell_type": "markdown",
   "metadata": {},
   "source": [
    "#### extract videos IDs (+ datetime, title)\n"
   ]
  },
  {
   "cell_type": "code",
   "execution_count": 22,
   "metadata": {},
   "outputs": [],
   "source": [
    "def getVideoRecords(response : requests.models.Response):\n",
    "    \"\"\"\n",
    "        Function to extract YouTube video data from GET request response\n",
    "    \"\"\"\n",
    "    video_record_list = []\n",
    "\n",
    "    for raw_item in json.loads(response.text)['items']:\n",
    "        if raw_item['id']['kind'] != 'youtube#video':\n",
    "            continue\n",
    "        video_record = {}\n",
    "        video_record['video_id'] = raw_item['id']['videoId']\n",
    "        video_record['datetime'] = raw_item['snippet']['publishedAt']\n",
    "        video_record['title'] = raw_item['snippet']['title']\n",
    "\n",
    "        video_record_list.append(video_record)\n",
    "        \n",
    "    return video_record_list\n",
    "    "
   ]
  },
  {
   "cell_type": "code",
   "execution_count": 23,
   "metadata": {},
   "outputs": [],
   "source": [
    "# define channel ID\n",
    "channel_id = 'UCa9gErQ9AE5jT2DZLjXBIdA'\n",
    "\n",
    "# define url for API\n",
    "url = 'https://www.googleapis.com/youtube/v3/search'\n",
    "\n",
    "# initialize page token\n",
    "page_token = None\n",
    "\n",
    "# intialize list to store video data\n",
    "video_record_list = []"
   ]
  },
  {
   "cell_type": "code",
   "execution_count": 24,
   "metadata": {},
   "outputs": [
    {
     "name": "stdout",
     "output_type": "stream",
     "text": [
      "CPU times: user 28.5 ms, sys: 8.64 ms, total: 37.1 ms\n",
      "Wall time: 1.1 s\n"
     ]
    }
   ],
   "source": [
    "%%time\n",
    "# extract video data across multiple search result pages\n",
    "while page_token != 0:\n",
    "    # define parameters for API call\n",
    "    params = {\n",
    "        \"key\": my_key,\n",
    "        'channelId': channel_id,\n",
    "        'part': [\"snippet\",\"id\"],\n",
    "        'order': \"date\",\n",
    "        'maxResults':50,\n",
    "        'pageToken': page_token\n",
    "    }\n",
    "\n",
    "    response = requests.get(url, params)\n",
    "\n",
    "    # extract video data from response\n",
    "    video_record_list += getVideoRecords(response)\n",
    "\n",
    "    try:\n",
    "        page_token = json.loads(response.text)['nextPageToken']\n",
    "    except:\n",
    "        page_token = 0"
   ]
  },
  {
   "cell_type": "markdown",
   "metadata": {},
   "source": [
    "#### write data to file\n",
    "\n"
   ]
  },
  {
   "cell_type": "code",
   "execution_count": 28,
   "metadata": {},
   "outputs": [
    {
     "name": "stdout",
     "output_type": "stream",
     "text": [
      "shape: (5, 3)\n",
      "┌─────────────┬──────────────────────┬─────────────────────────────────┐\n",
      "│ video_id    ┆ datetime             ┆ title                           │\n",
      "│ ---         ┆ ---                  ┆ ---                             │\n",
      "│ str         ┆ str                  ┆ str                             │\n",
      "╞═════════════╪══════════════════════╪═════════════════════════════════╡\n",
      "│ bZr2vhoXSy8 ┆ 2025-02-08T18:10:05Z ┆ I Trained FLUX.1 on My Face (P… │\n",
      "│ QvxuR8uLPFs ┆ 2025-02-03T18:00:00Z ┆ How to Build Customer Segments… │\n",
      "│ W4s6b2ZM6kI ┆ 2025-01-31T22:38:22Z ┆ Fine-tuning Multimodal Embeddi… │\n",
      "│ hOLBrIjRAj4 ┆ 2025-01-22T21:25:16Z ┆ Fine-Tuning Text Embeddings Fo… │\n",
      "│ V1BR2tb_e8g ┆ 2025-01-13T21:10:47Z ┆ My AI Development Setup (From … │\n",
      "└─────────────┴──────────────────────┴─────────────────────────────────┘\n"
     ]
    }
   ],
   "source": [
    "pl.DataFrame(video_record_list).write_parquet('data/video_ids.parquet')\n",
    "pl.DataFrame(video_record_list).write_csv('data/video_ids.csv')\n",
    "df = pl.read_parquet('data/video_ids.parquet')\n",
    "print(df.head())"
   ]
  }
 ],
 "metadata": {
  "kernelspec": {
   "display_name": "base",
   "language": "python",
   "name": "python3"
  },
  "language_info": {
   "codemirror_mode": {
    "name": "ipython",
    "version": 3
   },
   "file_extension": ".py",
   "mimetype": "text/x-python",
   "name": "python",
   "nbconvert_exporter": "python",
   "pygments_lexer": "ipython3",
   "version": "3.12.2"
  }
 },
 "nbformat": 4,
 "nbformat_minor": 2
}
