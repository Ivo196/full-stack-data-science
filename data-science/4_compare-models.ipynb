{
 "cells": [
  {
   "cell_type": "markdown",
   "metadata": {},
   "source": [
    "# Compare Candidates Search Approaches"
   ]
  },
  {
   "cell_type": "markdown",
   "metadata": {},
   "source": [
    "#### Imports\n"
   ]
  },
  {
   "cell_type": "code",
   "execution_count": 2,
   "metadata": {},
   "outputs": [],
   "source": [
    "import polars as pl \n",
    "\n",
    "from sentence_transformers import SentenceTransformer, util\n",
    "\n",
    "from sklearn.metrics import DistanceMetric\n",
    "import numpy as np\n",
    "\n",
    "import matplotlib.pyplot as plt"
   ]
  },
  {
   "cell_type": "markdown",
   "metadata": {},
   "source": [
    "#### Load data"
   ]
  },
  {
   "cell_type": "code",
   "execution_count": 7,
   "metadata": {},
   "outputs": [
    {
     "data": {
      "text/html": [
       "<div><style>\n",
       ".dataframe > thead > tr,\n",
       ".dataframe > tbody > tr {\n",
       "  text-align: right;\n",
       "  white-space: pre-wrap;\n",
       "}\n",
       "</style>\n",
       "<small>shape: (5, 5)</small><table border=\"1\" class=\"dataframe\"><thead><tr><th>video_id</th><th>datetime</th><th>title</th><th>transcript</th><th>transript</th></tr><tr><td>str</td><td>datetime[μs]</td><td>str</td><td>str</td><td>str</td></tr></thead><tbody><tr><td>&quot;bZr2vhoXSy8&quot;</td><td>2025-02-08 18:10:05</td><td>&quot;I Trained FLUX.1 on My Face (P…</td><td>&quot;flux is a state-of-the-art ima…</td><td>&quot;flux is a state-of-the-art ima…</td></tr><tr><td>&quot;QvxuR8uLPFs&quot;</td><td>2025-02-03 18:00:00</td><td>&quot;How to Build Customer Segments…</td><td>&quot;although today&#x27;s AI models are…</td><td>&quot;although today&#x27;s AI models are…</td></tr><tr><td>&quot;W4s6b2ZM6kI&quot;</td><td>2025-01-31 22:38:22</td><td>&quot;Fine-tuning Multimodal Embeddi…</td><td>&quot;multimodal embedding models br…</td><td>&quot;multimodal embedding models br…</td></tr><tr><td>&quot;hOLBrIjRAj4&quot;</td><td>2025-01-22 21:25:16</td><td>&quot;Fine-Tuning Text Embeddings Fo…</td><td>&quot;embedding models represent tex…</td><td>&quot;embedding models represent tex…</td></tr><tr><td>&quot;V1BR2tb_e8g&quot;</td><td>2025-01-13 21:10:47</td><td>&quot;My AI Development Setup (From …</td><td>&quot;hey everyone I&#x27;m sha I just go…</td><td>&quot;hey everyone I&#x27;m Shaw I just g…</td></tr></tbody></table></div>"
      ],
      "text/plain": [
       "shape: (5, 5)\n",
       "┌─────────────┬──────────────┬───────────────────────┬──────────────────────┬──────────────────────┐\n",
       "│ video_id    ┆ datetime     ┆ title                 ┆ transcript           ┆ transript            │\n",
       "│ ---         ┆ ---          ┆ ---                   ┆ ---                  ┆ ---                  │\n",
       "│ str         ┆ datetime[μs] ┆ str                   ┆ str                  ┆ str                  │\n",
       "╞═════════════╪══════════════╪═══════════════════════╪══════════════════════╪══════════════════════╡\n",
       "│ bZr2vhoXSy8 ┆ 2025-02-08   ┆ I Trained FLUX.1 on   ┆ flux is a            ┆ flux is a            │\n",
       "│             ┆ 18:10:05     ┆ My Face (P…           ┆ state-of-the-art     ┆ state-of-the-art     │\n",
       "│             ┆              ┆                       ┆ ima…                 ┆ ima…                 │\n",
       "│ QvxuR8uLPFs ┆ 2025-02-03   ┆ How to Build Customer ┆ although today's AI  ┆ although today's AI  │\n",
       "│             ┆ 18:00:00     ┆ Segments…             ┆ models are…          ┆ models are…          │\n",
       "│ W4s6b2ZM6kI ┆ 2025-01-31   ┆ Fine-tuning           ┆ multimodal embedding ┆ multimodal embedding │\n",
       "│             ┆ 22:38:22     ┆ Multimodal Embeddi…   ┆ models br…           ┆ models br…           │\n",
       "│ hOLBrIjRAj4 ┆ 2025-01-22   ┆ Fine-Tuning Text      ┆ embedding models     ┆ embedding models     │\n",
       "│             ┆ 21:25:16     ┆ Embeddings Fo…        ┆ represent tex…       ┆ represent tex…       │\n",
       "│ V1BR2tb_e8g ┆ 2025-01-13   ┆ My AI Development     ┆ hey everyone I'm sha ┆ hey everyone I'm     │\n",
       "│             ┆ 21:10:47     ┆ Setup (From …         ┆ I just go…           ┆ Shaw I just g…       │\n",
       "└─────────────┴──────────────┴───────────────────────┴──────────────────────┴──────────────────────┘"
      ]
     },
     "execution_count": 7,
     "metadata": {},
     "output_type": "execute_result"
    }
   ],
   "source": [
    "df = pl.read_parquet(\"data/video-transcripts.parquet)\")\n",
    "de_eval = pl.read_csv(\"data/eval-raw.csv\")\n",
    "\n",
    "df.head()\n"
   ]
  }
 ],
 "metadata": {
  "kernelspec": {
   "display_name": "base",
   "language": "python",
   "name": "python3"
  },
  "language_info": {
   "codemirror_mode": {
    "name": "ipython",
    "version": 3
   },
   "file_extension": ".py",
   "mimetype": "text/x-python",
   "name": "python",
   "nbconvert_exporter": "python",
   "pygments_lexer": "ipython3",
   "version": "3.12.3"
  }
 },
 "nbformat": 4,
 "nbformat_minor": 2
}
