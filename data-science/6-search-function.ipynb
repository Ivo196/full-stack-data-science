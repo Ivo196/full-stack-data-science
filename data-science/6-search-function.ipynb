{
 "cells": [
  {
   "cell_type": "markdown",
   "metadata": {},
   "source": [
    "# Semantic Search Function "
   ]
  },
  {
   "cell_type": "markdown",
   "metadata": {},
   "source": [
    "#### imports"
   ]
  },
  {
   "cell_type": "code",
   "execution_count": 31,
   "metadata": {},
   "outputs": [],
   "source": [
    "import polars as pl \n",
    "from sentence_transformers import SentenceTransformer\n",
    "import numpy as np \n",
    "from sklearn.metrics import DistanceMetric\n",
    "import gradio as gr "
   ]
  },
  {
   "cell_type": "markdown",
   "metadata": {},
   "source": [
    "#### load data, model and metric"
   ]
  },
  {
   "cell_type": "code",
   "execution_count": 40,
   "metadata": {},
   "outputs": [
    {
     "name": "stdout",
     "output_type": "stream",
     "text": [
      "CPU times: user 7.81 ms, sys: 6.58 ms, total: 14.4 ms\n",
      "Wall time: 57 ms\n"
     ]
    },
    {
     "data": {
      "text/html": [
       "<div><style>\n",
       ".dataframe > thead > tr,\n",
       ".dataframe > tbody > tr {\n",
       "  text-align: right;\n",
       "  white-space: pre-wrap;\n",
       "}\n",
       "</style>\n",
       "<small>shape: (5, 772)</small><table border=\"1\" class=\"dataframe\"><thead><tr><th>video_id</th><th>datetime</th><th>title</th><th>transcript</th><th>title_embedding-0</th><th>title_embedding-1</th><th>title_embedding-2</th><th>title_embedding-3</th><th>title_embedding-4</th><th>title_embedding-5</th><th>title_embedding-6</th><th>title_embedding-7</th><th>title_embedding-8</th><th>title_embedding-9</th><th>title_embedding-10</th><th>title_embedding-11</th><th>title_embedding-12</th><th>title_embedding-13</th><th>title_embedding-14</th><th>title_embedding-15</th><th>title_embedding-16</th><th>title_embedding-17</th><th>title_embedding-18</th><th>title_embedding-19</th><th>title_embedding-20</th><th>title_embedding-21</th><th>title_embedding-22</th><th>title_embedding-23</th><th>title_embedding-24</th><th>title_embedding-25</th><th>title_embedding-26</th><th>title_embedding-27</th><th>title_embedding-28</th><th>title_embedding-29</th><th>title_embedding-30</th><th>title_embedding-31</th><th>title_embedding-32</th><th>&hellip;</th><th>transcript_embedding-347</th><th>transcript_embedding-348</th><th>transcript_embedding-349</th><th>transcript_embedding-350</th><th>transcript_embedding-351</th><th>transcript_embedding-352</th><th>transcript_embedding-353</th><th>transcript_embedding-354</th><th>transcript_embedding-355</th><th>transcript_embedding-356</th><th>transcript_embedding-357</th><th>transcript_embedding-358</th><th>transcript_embedding-359</th><th>transcript_embedding-360</th><th>transcript_embedding-361</th><th>transcript_embedding-362</th><th>transcript_embedding-363</th><th>transcript_embedding-364</th><th>transcript_embedding-365</th><th>transcript_embedding-366</th><th>transcript_embedding-367</th><th>transcript_embedding-368</th><th>transcript_embedding-369</th><th>transcript_embedding-370</th><th>transcript_embedding-371</th><th>transcript_embedding-372</th><th>transcript_embedding-373</th><th>transcript_embedding-374</th><th>transcript_embedding-375</th><th>transcript_embedding-376</th><th>transcript_embedding-377</th><th>transcript_embedding-378</th><th>transcript_embedding-379</th><th>transcript_embedding-380</th><th>transcript_embedding-381</th><th>transcript_embedding-382</th><th>transcript_embedding-383</th></tr><tr><td>str</td><td>datetime[μs]</td><td>str</td><td>str</td><td>f64</td><td>f64</td><td>f64</td><td>f64</td><td>f64</td><td>f64</td><td>f64</td><td>f64</td><td>f64</td><td>f64</td><td>f64</td><td>f64</td><td>f64</td><td>f64</td><td>f64</td><td>f64</td><td>f64</td><td>f64</td><td>f64</td><td>f64</td><td>f64</td><td>f64</td><td>f64</td><td>f64</td><td>f64</td><td>f64</td><td>f64</td><td>f64</td><td>f64</td><td>f64</td><td>f64</td><td>f64</td><td>f64</td><td>&hellip;</td><td>f64</td><td>f64</td><td>f64</td><td>f64</td><td>f64</td><td>f64</td><td>f64</td><td>f64</td><td>f64</td><td>f64</td><td>f64</td><td>f64</td><td>f64</td><td>f64</td><td>f64</td><td>f64</td><td>f64</td><td>f64</td><td>f64</td><td>f64</td><td>f64</td><td>f64</td><td>f64</td><td>f64</td><td>f64</td><td>f64</td><td>f64</td><td>f64</td><td>f64</td><td>f64</td><td>f64</td><td>f64</td><td>f64</td><td>f64</td><td>f64</td><td>f64</td><td>f64</td></tr></thead><tbody><tr><td>&quot;bZr2vhoXSy8&quot;</td><td>2025-02-08 18:10:05</td><td>&quot;I Trained FLUX.1 on My Face (P…</td><td>&quot;flux is a state-of-the-art ima…</td><td>-0.10323</td><td>-0.063101</td><td>0.045255</td><td>0.027519</td><td>0.049073</td><td>-0.130895</td><td>0.041504</td><td>0.024269</td><td>-0.108514</td><td>-0.06766</td><td>0.002228</td><td>-0.084271</td><td>0.043815</td><td>0.052335</td><td>0.019513</td><td>-0.01962</td><td>0.008622</td><td>-0.019429</td><td>-0.005975</td><td>-0.03834</td><td>0.011716</td><td>0.070492</td><td>0.037155</td><td>-0.002652</td><td>0.051806</td><td>0.001729</td><td>0.017232</td><td>-0.013841</td><td>0.056693</td><td>-0.108104</td><td>0.012813</td><td>0.019935</td><td>-0.089308</td><td>&hellip;</td><td>-0.025756</td><td>-0.040852</td><td>-0.100541</td><td>0.027852</td><td>-0.032628</td><td>0.048355</td><td>0.033574</td><td>0.004785</td><td>-0.024732</td><td>-0.117576</td><td>-0.070969</td><td>-0.060081</td><td>-0.010528</td><td>-0.01559</td><td>0.090649</td><td>0.00182</td><td>-0.012453</td><td>0.089711</td><td>0.008851</td><td>0.080553</td><td>-0.052646</td><td>-0.048805</td><td>0.04307</td><td>-0.025641</td><td>-0.047168</td><td>0.006739</td><td>0.032752</td><td>0.045078</td><td>-0.018197</td><td>0.080647</td><td>0.001504</td><td>0.104534</td><td>0.060422</td><td>0.024158</td><td>0.07255</td><td>-0.011631</td><td>-0.074761</td></tr><tr><td>&quot;QvxuR8uLPFs&quot;</td><td>2025-02-03 18:00:00</td><td>&quot;How to Build Customer Segments…</td><td>&quot;although today&#x27;s AI models are…</td><td>-0.056979</td><td>-0.03146</td><td>-0.003455</td><td>-0.054426</td><td>-0.061734</td><td>-0.00879</td><td>0.04046</td><td>0.025732</td><td>-0.015264</td><td>-0.058018</td><td>0.024905</td><td>-0.028064</td><td>0.052177</td><td>-0.000325</td><td>0.082099</td><td>0.00355</td><td>0.044803</td><td>-0.011043</td><td>-0.03191</td><td>-0.029303</td><td>-0.020337</td><td>-0.000162</td><td>-0.049921</td><td>-0.008195</td><td>-0.097122</td><td>0.02876</td><td>0.111755</td><td>-0.040304</td><td>0.020536</td><td>0.00057</td><td>0.071091</td><td>0.076717</td><td>0.099094</td><td>&hellip;</td><td>0.032828</td><td>-0.053494</td><td>-0.005647</td><td>-0.01245</td><td>0.013892</td><td>0.050916</td><td>0.023537</td><td>0.068807</td><td>-0.035857</td><td>0.035819</td><td>-0.038169</td><td>-0.034331</td><td>-0.05673</td><td>0.003164</td><td>0.093093</td><td>-0.013914</td><td>-0.013554</td><td>-0.002032</td><td>0.000721</td><td>-0.028855</td><td>-0.058454</td><td>0.016766</td><td>0.042245</td><td>-0.018605</td><td>0.009617</td><td>0.061772</td><td>0.039387</td><td>0.111508</td><td>0.016261</td><td>0.000445</td><td>-0.0035</td><td>0.001963</td><td>0.126719</td><td>0.011522</td><td>0.055999</td><td>-0.130304</td><td>0.009989</td></tr><tr><td>&quot;W4s6b2ZM6kI&quot;</td><td>2025-01-31 22:38:22</td><td>&quot;Fine-tuning Multimodal Embeddi…</td><td>&quot;multimodal embedding models br…</td><td>0.018917</td><td>-0.110189</td><td>0.087427</td><td>-0.031797</td><td>0.050235</td><td>0.024523</td><td>-0.000274</td><td>-0.00563</td><td>0.021286</td><td>-0.064338</td><td>-0.0054</td><td>-0.005728</td><td>0.018725</td><td>0.06709</td><td>-0.024775</td><td>0.012747</td><td>0.017183</td><td>0.077786</td><td>-0.084095</td><td>-0.005546</td><td>-0.061987</td><td>-0.036718</td><td>0.096382</td><td>-0.127006</td><td>0.037827</td><td>0.021259</td><td>-0.037596</td><td>-0.042008</td><td>0.071969</td><td>-0.028311</td><td>0.012695</td><td>0.024077</td><td>0.00374</td><td>&hellip;</td><td>0.023</td><td>-0.005415</td><td>-0.038949</td><td>-0.008786</td><td>0.023704</td><td>-0.012237</td><td>-0.095138</td><td>-0.025574</td><td>-0.041069</td><td>0.018734</td><td>-0.110186</td><td>0.003261</td><td>-0.016507</td><td>0.058545</td><td>0.039788</td><td>0.010834</td><td>-0.03811</td><td>0.087324</td><td>0.061179</td><td>0.044659</td><td>-0.018688</td><td>0.004592</td><td>0.063341</td><td>-0.046115</td><td>-0.000015</td><td>-0.021222</td><td>0.0664</td><td>0.055575</td><td>-0.042068</td><td>0.037899</td><td>0.058445</td><td>0.074986</td><td>0.044162</td><td>0.030221</td><td>0.035405</td><td>-0.020453</td><td>-0.021087</td></tr><tr><td>&quot;hOLBrIjRAj4&quot;</td><td>2025-01-22 21:25:16</td><td>&quot;Fine-Tuning Text Embeddings Fo…</td><td>&quot;embedding models represent tex…</td><td>-0.027662</td><td>-0.018207</td><td>0.027053</td><td>0.019789</td><td>-0.004027</td><td>-0.052794</td><td>-0.007883</td><td>-0.021852</td><td>-0.035336</td><td>-0.08246</td><td>-0.038563</td><td>0.029688</td><td>0.087459</td><td>0.039637</td><td>-0.007815</td><td>0.017925</td><td>0.115032</td><td>0.050113</td><td>-0.01429</td><td>-0.052884</td><td>0.030679</td><td>0.112925</td><td>0.1352</td><td>-0.050262</td><td>-0.061948</td><td>-0.031555</td><td>-0.050545</td><td>-0.049992</td><td>0.009114</td><td>0.038241</td><td>0.020874</td><td>0.052467</td><td>-0.000919</td><td>&hellip;</td><td>0.074263</td><td>0.025161</td><td>-0.037583</td><td>-0.017993</td><td>0.060014</td><td>-0.005408</td><td>-0.043748</td><td>0.013498</td><td>0.029385</td><td>0.036982</td><td>-0.13399</td><td>-0.027901</td><td>-0.004111</td><td>0.076711</td><td>0.062222</td><td>-0.033033</td><td>-0.056215</td><td>0.054323</td><td>0.026316</td><td>0.001136</td><td>-0.080089</td><td>0.025501</td><td>0.027227</td><td>-0.001011</td><td>-0.083422</td><td>-0.055824</td><td>0.022612</td><td>0.002582</td><td>0.003257</td><td>0.018769</td><td>-0.012298</td><td>0.029738</td><td>0.032729</td><td>0.000362</td><td>0.074825</td><td>-0.005797</td><td>-0.009739</td></tr><tr><td>&quot;V1BR2tb_e8g&quot;</td><td>2025-01-13 21:10:47</td><td>&quot;My AI Development Setup (From …</td><td>&quot;hey everyone I&#x27;m Shaw I just g…</td><td>0.001564</td><td>-0.091419</td><td>-0.010577</td><td>0.001022</td><td>-0.017486</td><td>-0.025354</td><td>0.003011</td><td>0.047916</td><td>-0.073422</td><td>-0.002323</td><td>-0.025134</td><td>-0.097902</td><td>0.037225</td><td>-0.032539</td><td>-0.045148</td><td>0.091804</td><td>-0.011458</td><td>-0.048909</td><td>-0.017637</td><td>-0.070319</td><td>-0.063428</td><td>-0.000153</td><td>0.007242</td><td>-0.092006</td><td>0.019185</td><td>0.088007</td><td>0.109859</td><td>-0.012275</td><td>0.046119</td><td>-0.045281</td><td>0.047562</td><td>-0.066293</td><td>0.051858</td><td>&hellip;</td><td>0.009639</td><td>-0.104873</td><td>0.013965</td><td>0.000724</td><td>-0.040889</td><td>-0.041606</td><td>0.04806</td><td>0.104426</td><td>-0.094641</td><td>0.047413</td><td>-0.039004</td><td>0.049811</td><td>-0.011178</td><td>-0.020611</td><td>0.045689</td><td>0.022876</td><td>-0.032173</td><td>-0.034381</td><td>-0.02631</td><td>-0.057193</td><td>-0.090714</td><td>-0.052452</td><td>-0.066977</td><td>-0.034991</td><td>-0.033648</td><td>0.027377</td><td>0.045737</td><td>0.126144</td><td>0.085026</td><td>-0.0678</td><td>0.00787</td><td>-0.01379</td><td>0.053033</td><td>0.014174</td><td>0.094</td><td>0.055951</td><td>-0.035375</td></tr></tbody></table></div>"
      ],
      "text/plain": [
       "shape: (5, 772)\n",
       "┌───────────┬───────────┬───────────┬───────────┬───┬───────────┬───────────┬───────────┬──────────┐\n",
       "│ video_id  ┆ datetime  ┆ title     ┆ transcrip ┆ … ┆ transcrip ┆ transcrip ┆ transcrip ┆ transcri │\n",
       "│ ---       ┆ ---       ┆ ---       ┆ t         ┆   ┆ t_embeddi ┆ t_embeddi ┆ t_embeddi ┆ pt_embed │\n",
       "│ str       ┆ datetime[ ┆ str       ┆ ---       ┆   ┆ ng-380    ┆ ng-381    ┆ ng-382    ┆ ding-383 │\n",
       "│           ┆ μs]       ┆           ┆ str       ┆   ┆ ---       ┆ ---       ┆ ---       ┆ ---      │\n",
       "│           ┆           ┆           ┆           ┆   ┆ f64       ┆ f64       ┆ f64       ┆ f64      │\n",
       "╞═══════════╪═══════════╪═══════════╪═══════════╪═══╪═══════════╪═══════════╪═══════════╪══════════╡\n",
       "│ bZr2vhoXS ┆ 2025-02-0 ┆ I Trained ┆ flux is a ┆ … ┆ 0.024158  ┆ 0.07255   ┆ -0.011631 ┆ -0.07476 │\n",
       "│ y8        ┆ 8         ┆ FLUX.1 on ┆ state-of- ┆   ┆           ┆           ┆           ┆ 1        │\n",
       "│           ┆ 18:10:05  ┆ My Face   ┆ the-art   ┆   ┆           ┆           ┆           ┆          │\n",
       "│           ┆           ┆ (P…       ┆ ima…      ┆   ┆           ┆           ┆           ┆          │\n",
       "│ QvxuR8uLP ┆ 2025-02-0 ┆ How to    ┆ although  ┆ … ┆ 0.011522  ┆ 0.055999  ┆ -0.130304 ┆ 0.009989 │\n",
       "│ Fs        ┆ 3         ┆ Build     ┆ today's   ┆   ┆           ┆           ┆           ┆          │\n",
       "│           ┆ 18:00:00  ┆ Customer  ┆ AI models ┆   ┆           ┆           ┆           ┆          │\n",
       "│           ┆           ┆ Segments… ┆ are…      ┆   ┆           ┆           ┆           ┆          │\n",
       "│ W4s6b2ZM6 ┆ 2025-01-3 ┆ Fine-tuni ┆ multimoda ┆ … ┆ 0.030221  ┆ 0.035405  ┆ -0.020453 ┆ -0.02108 │\n",
       "│ kI        ┆ 1         ┆ ng Multim ┆ l         ┆   ┆           ┆           ┆           ┆ 7        │\n",
       "│           ┆ 22:38:22  ┆ odal      ┆ embedding ┆   ┆           ┆           ┆           ┆          │\n",
       "│           ┆           ┆ Embeddi…  ┆ models    ┆   ┆           ┆           ┆           ┆          │\n",
       "│           ┆           ┆           ┆ br…       ┆   ┆           ┆           ┆           ┆          │\n",
       "│ hOLBrIjRA ┆ 2025-01-2 ┆ Fine-Tuni ┆ embedding ┆ … ┆ 0.000362  ┆ 0.074825  ┆ -0.005797 ┆ -0.00973 │\n",
       "│ j4        ┆ 2         ┆ ng Text   ┆ models    ┆   ┆           ┆           ┆           ┆ 9        │\n",
       "│           ┆ 21:25:16  ┆ Embedding ┆ represent ┆   ┆           ┆           ┆           ┆          │\n",
       "│           ┆           ┆ s Fo…     ┆ tex…      ┆   ┆           ┆           ┆           ┆          │\n",
       "│ V1BR2tb_e ┆ 2025-01-1 ┆ My AI Dev ┆ hey       ┆ … ┆ 0.014174  ┆ 0.094     ┆ 0.055951  ┆ -0.03537 │\n",
       "│ 8g        ┆ 3         ┆ elopment  ┆ everyone  ┆   ┆           ┆           ┆           ┆ 5        │\n",
       "│           ┆ 21:10:47  ┆ Setup     ┆ I'm Shaw  ┆   ┆           ┆           ┆           ┆          │\n",
       "│           ┆           ┆ (From …   ┆ I just g… ┆   ┆           ┆           ┆           ┆          │\n",
       "└───────────┴───────────┴───────────┴───────────┴───┴───────────┴───────────┴───────────┴──────────┘"
      ]
     },
     "execution_count": 40,
     "metadata": {},
     "output_type": "execute_result"
    }
   ],
   "source": [
    "%time df = pl.read_parquet('data/video-index.parquet')\n",
    "df.head()"
   ]
  },
  {
   "cell_type": "code",
   "execution_count": 41,
   "metadata": {},
   "outputs": [
    {
     "name": "stdout",
     "output_type": "stream",
     "text": [
      "CPU times: user 66.7 ms, sys: 209 ms, total: 275 ms\n",
      "Wall time: 1.94 s\n"
     ]
    }
   ],
   "source": [
    "model_name = 'all-MiniLM-L6-v2'\n",
    "%time model = SentenceTransformer(model_name)"
   ]
  },
  {
   "cell_type": "code",
   "execution_count": 42,
   "metadata": {},
   "outputs": [
    {
     "name": "stdout",
     "output_type": "stream",
     "text": [
      "CPU times: user 53 μs, sys: 431 μs, total: 484 μs\n",
      "Wall time: 1.66 ms\n"
     ]
    }
   ],
   "source": [
    "dist_name = 'manhattan'\n",
    "%time dist = DistanceMetric.get_metric(dist_name)"
   ]
  },
  {
   "cell_type": "markdown",
   "metadata": {},
   "source": [
    "#### Search Function "
   ]
  },
  {
   "cell_type": "code",
   "execution_count": 43,
   "metadata": {},
   "outputs": [],
   "source": [
    "import numpy as np\n",
    "import polars as pl\n",
    "from sentence_transformers import SentenceTransformer\n",
    "from sklearn.metrics.pairwise import euclidean_distances as dist\n",
    "\n",
    "# Cargar modelo de embeddings\n",
    "model = SentenceTransformer(\"all-MiniLM-L6-v2\")\n",
    "\n",
    "def returnSearchResult(query: str, df: pl.DataFrame) -> np.ndarray:\n",
    "    \"\"\"\n",
    "    Función que retorna los índices de los videos más relevantes.\n",
    "    \"\"\"\n",
    "    query_embedding = model.encode(query).reshape(1, -1)  # Asegurar que sea 2D\n",
    "\n",
    "    # Imprimir información de las columnas\n",
    "    print(f\"Número total de columnas en df: {len(df.columns)}\")\n",
    "    print(\"Primeras 10 columnas:\", df.columns[:10])\n",
    "\n",
    "    # Filtrar solo columnas de embeddings\n",
    "    title_embedding_cols = [col for col in df.columns if \"title_embedding\" in col]\n",
    "    transcript_embedding_cols = [col for col in df.columns if \"transcript_embedding\" in col]\n",
    "\n",
    "    df_embedding_title = df.select(title_embedding_cols)\n",
    "    df_embedding_transcript = df.select(transcript_embedding_cols)\n",
    "\n",
    "    # Verificar que los embeddings no estén vacíos\n",
    "    if df_embedding_title.shape[1] == 0 or df_embedding_transcript.shape[1] == 0:\n",
    "        print(\"⚠️ No se encontraron columnas de embeddings. Revisa los nombres de las columnas.\")\n",
    "        print(\"Lista de columnas en df:\", df.columns)\n",
    "        raise ValueError(\"Los embeddings están vacíos. Verifica que df tiene las columnas correctas.\")\n",
    "\n",
    "    # Convertir a numpy antes de calcular distancias\n",
    "    dist_arr = dist(df_embedding_title.to_numpy(), query_embedding) + dist(df_embedding_transcript.to_numpy(), query_embedding)\n",
    "\n",
    "    # Parámetros de búsqueda\n",
    "    threshold = 40\n",
    "    top_k = 5\n",
    "\n",
    "    # Filtrar resultados con distancia menor al umbral\n",
    "    idx_below_threshold = np.argwhere(dist_arr.flatten() < threshold).flatten()\n",
    "    idx_sorted = np.argsort(dist_arr[idx_below_threshold], axis=0).flatten()\n",
    "\n",
    "    return idx_below_threshold[idx_sorted][:top_k]"
   ]
  },
  {
   "cell_type": "code",
   "execution_count": 44,
   "metadata": {},
   "outputs": [
    {
     "name": "stdout",
     "output_type": "stream",
     "text": [
      "Número total de columnas en df: 772\n",
      "Primeras 10 columnas: ['video_id', 'datetime', 'title', 'transcript', 'title_embedding-0', 'title_embedding-1', 'title_embedding-2', 'title_embedding-3', 'title_embedding-4', 'title_embedding-5']\n",
      "Resultados de búsqueda: [53 27 72 10 80]\n"
     ]
    }
   ],
   "source": [
    "query = \"LLM\"\n",
    "idx_result = returnSearchResult(query, df)\n",
    "print(\"Resultados de búsqueda:\", idx_result)"
   ]
  }
 ],
 "metadata": {
  "kernelspec": {
   "display_name": "base",
   "language": "python",
   "name": "python3"
  },
  "language_info": {
   "codemirror_mode": {
    "name": "ipython",
    "version": 3
   },
   "file_extension": ".py",
   "mimetype": "text/x-python",
   "name": "python",
   "nbconvert_exporter": "python",
   "pygments_lexer": "ipython3",
   "version": "3.12.2"
  }
 },
 "nbformat": 4,
 "nbformat_minor": 2
}
